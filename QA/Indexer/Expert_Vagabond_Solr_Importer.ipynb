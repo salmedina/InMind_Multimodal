{
 "cells": [
  {
   "cell_type": "code",
   "execution_count": 1,
   "metadata": {
    "collapsed": true
   },
   "outputs": [],
   "source": [
    "import re\n",
    "import solr\n",
    "import json\n",
    "import spacy\n",
    "from unidecode import unidecode"
   ]
  },
  {
   "cell_type": "markdown",
   "metadata": {},
   "source": [
    "## Connect to Solr"
   ]
  },
  {
   "cell_type": "code",
   "execution_count": 2,
   "metadata": {
    "collapsed": false
   },
   "outputs": [],
   "source": [
    "solr_expertv_url = 'http://holbox.lti.cs.cmu.edu:8983/solr/expertv'\n",
    "solr_expertv = solr.SolrConnection(solr_expertv_url)"
   ]
  },
  {
   "cell_type": "markdown",
   "metadata": {},
   "source": [
    "## Preprocess data\n",
    "\n",
    "What needs to be extracted is:\n",
    "1. LOCATION named entities\n",
    "1. DATETIME named entities\n",
    "1. VB lemmas\n",
    "1. Other named entities found"
   ]
  },
  {
   "cell_type": "code",
   "execution_count": 3,
   "metadata": {
    "collapsed": true
   },
   "outputs": [],
   "source": [
    "def extract_meta(nlp, text):\n",
    "    doc = nlp(text)\n",
    "    \n",
    "    meta = {}\n",
    "    verbs = []\n",
    "    for word in doc:\n",
    "        if word.pos == u'VERB':\n",
    "            verb.append(word.lemma_)\n",
    "            #word.text, word.lemma, word.lemma_, word.tag, word.tag_, word.pos, word.pos_\n",
    "    meta['VERB'] = ','.join(verbs)\n",
    "    \n",
    "    loc = []\n",
    "    dt = []\n",
    "    person = []\n",
    "    other = []\n",
    "    for ent in doc.ents:\n",
    "        if ent.label_ in [u'GPE', u'LOC',u'ORG',u'FACILITY']:\n",
    "            loc.append(ent.text)\n",
    "        elif ent.label_ in [u'DATE',u'TIME']:\n",
    "            dt.append(ent.text)\n",
    "        elif ent.label_ in [u'PERSON',]:\n",
    "            person.append(ent.text)\n",
    "        else:\n",
    "            other.append(ent.text)\n",
    "            \n",
    "    meta['LOC'] = ','.join(loc)\n",
    "    meta['DT'] = ','.join(dt)\n",
    "    meta['PERSON'] = ','.join(person)\n",
    "    meta['NER'] = ','.join(other)\n",
    "    \n",
    "    return meta"
   ]
  },
  {
   "cell_type": "code",
   "execution_count": 4,
   "metadata": {
    "collapsed": true
   },
   "outputs": [],
   "source": [
    "# Load the spacy pipeline\n",
    "nlp = spacy.load('en')"
   ]
  },
  {
   "cell_type": "code",
   "execution_count": 5,
   "metadata": {
    "collapsed": false
   },
   "outputs": [],
   "source": [
    "# Load the data\n",
    "blog_data = json.load(open('expertvagabond_blog_posts.json'))"
   ]
  },
  {
   "cell_type": "code",
   "execution_count": 7,
   "metadata": {
    "collapsed": false
   },
   "outputs": [
    {
     "data": {
      "text/plain": [
       "'<?xml version=\"1.0\" encoding=\"UTF-8\"?>\\n<response>\\n<lst name=\"responseHeader\"><int name=\"status\">0</int><int name=\"QTime\">680</int></lst>\\n</response>\\n'"
      ]
     },
     "execution_count": 7,
     "metadata": {},
     "output_type": "execute_result"
    }
   ],
   "source": [
    "# Index the data\n",
    "for entry in blog_data:\n",
    "    entry_text_pos = 0\n",
    "    for entry_text in entry['text']:\n",
    "        text_type, text = entry_text[0], entry_text[1]\n",
    "        entry_text_pos += 1\n",
    "        meta = extract_meta(nlp, text)\n",
    "        try:\n",
    "            solr_expertv.add(url=entry['entry_url'],\n",
    "                             title=entry['title'],\n",
    "                             date='',\n",
    "                             texttype=text_type,\n",
    "                             text=text,\n",
    "                             textpos=entry_text_pos,\n",
    "                             LOC=meta['LOC'],\n",
    "                             DT=meta['DT'],\n",
    "                             VB=meta['VERB'],\n",
    "                             PERSON=meta['PERSON'],\n",
    "                             NE=meta['NER']\n",
    "                            )\n",
    "        except Exception, e:\n",
    "            print e\n",
    "    \n",
    "solr_expertv.commit()"
   ]
  },
  {
   "cell_type": "markdown",
   "metadata": {},
   "source": [
    "# Query the corpus with a query\n",
    "\n",
    "Let's see how this works: :P"
   ]
  },
  {
   "cell_type": "code",
   "execution_count": 28,
   "metadata": {
    "collapsed": false
   },
   "outputs": [
    {
     "name": "stdout",
     "output_type": "stream",
     "text": [
      "I am bringing my Canon 70D with 17-55 F2.8 IS lens and I hope I would have some gorgeous photos to share soon ! I am new to photography, so I am crossing my fingers on this. Haha !\n",
      "2.5366573 _____________________________________________________________\n",
      "What a great post ! This will help me greatly as I am travelling to Iceland to chase the Aurora Borealis this coming Feb. I am spending 4 nights there and got so excited and happy to see this post of yours. As I haven’t really got a clue of where to go and what to see, in order to capture some beautiful and amazing photos. Now after reading your post, I have decided on at least 5 places I should go and see.\n",
      "2.5129242 _____________________________________________________________\n",
      "Hey Matthew,\n",
      "I accidently stumbled upon your blog when my colleague sent me a link to websites about cold areas of the world. I was mesmerized by the pictures and the beauty of Iceland and long to go there now. I was planning a vacation and now I know where I will be heading.\n",
      "2.507143 _____________________________________________________________\n",
      "I am so happy you posted this because I am SUPER obsessed with Iceland. I went there in February and loved every moment. But now I am very eager to go back in another season and experience a whole new side of Iceland. Honestly, I can’t get enough of the place.\n",
      "2.507143 _____________________________________________________________\n",
      "aah. I visited this beautiful country last year, in December, as a treat for completing med school. It was spectacular if not downright freezing. I stayed a week and the whole time most of Iceland was a blanket of white snow. It was magical and celebrating Christmas in the unique Iceland tradition was amazing. The magical experience of witnessing the Northern Lights was the highlight. however, I know I must go back in the summer, spring or fall to see the whimsical colors that make the name Iceland a complete misnomer. Last month I was in Norway, saying the same: must come in summer for the fjords. I don’t know why I always end up in Scandinavia and Nordic countries in Winter. No more!\n",
      "2.4959424 _____________________________________________________________\n",
      "I just wanted to add my story of a great guide.  I found him at the dock area (Santiago side).  He speaks great English, and is an all around really good guy.  He goes by Nicholas (or Kiwi).  I wasn’t sure if I even needed a guide.  I generally do things like this without.  Glad I went with Kiwi.  He arranged the tuk tuk ride, and guided me to the point where the trail has no more splits.  From there he instructed me on how to get to the summit, we took a picture together and he was on his way.  Then I was hiking up this beautiful volcano happily by myself at my own pace.\n",
      "Entry fee to park is 100Q, tuk tuk was 15Q each way, and I gave Kiwi 50Q.  All of this for 180Q.\n",
      "Leave early.  It gets hot!  I got into tuk tuk at 7 am (we met at dock), took about 3.5 hours hiking up to the summit, spent a good hour there, and about 1.5 hours to get back down.\n",
      "Be warned.  It’s steep and almost entirely all up.  VERY much with the effort.  Enjoy!\n",
      "2.4800835 _____________________________________________________________\n",
      "I just wanted to tell you that I loved this post and your whole blog! I was just in Iceland last summer and what can I say… It was the best trip ever! \n",
      "2.4790914 _____________________________________________________________\n",
      "I waited for high-tide to see if I could spot some bull sharks swimming into the mouth of the river looking for fish. It wasn’t long before I saw fins darting over the water in the area I had been planning to cross!\n",
      "2.4790914 _____________________________________________________________\n",
      "i live across from the volcano currently on a private estate. I plan on hiking this volcano soon. Matt I will look for Pedro in town. He is in San Pedro not San Juan correct?\n",
      "2.4790914 _____________________________________________________________\n",
      "[u'p', u'I\\u2019m Going Trekking in Afghanistan']\n",
      "2.4706676 _____________________________________________________________\n"
     ]
    }
   ],
   "source": [
    "query = 'volcanoes I visited?'\n",
    "response = solr_expertv.query('text:%s'%(query))\n",
    "for r in response:\n",
    "    print r['text'][0]\n",
    "    print r['score'],'_____________________________________________________________'"
   ]
  },
  {
   "cell_type": "code",
   "execution_count": null,
   "metadata": {
    "collapsed": true
   },
   "outputs": [],
   "source": []
  }
 ],
 "metadata": {
  "kernelspec": {
   "display_name": "Python 2",
   "language": "python",
   "name": "python2"
  },
  "language_info": {
   "codemirror_mode": {
    "name": "ipython",
    "version": 2
   },
   "file_extension": ".py",
   "mimetype": "text/x-python",
   "name": "python",
   "nbconvert_exporter": "python",
   "pygments_lexer": "ipython2",
   "version": "2.7.13"
  }
 },
 "nbformat": 4,
 "nbformat_minor": 1
}
