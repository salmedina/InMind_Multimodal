{
 "cells": [
  {
   "cell_type": "code",
   "execution_count": 8,
   "metadata": {
    "collapsed": true
   },
   "outputs": [],
   "source": [
    "import re\n",
    "import json\n",
    "import solr\n",
    "import pprint\n",
    "import MySQLdb\n",
    "from unidecode import unidecode, unidecode"
   ]
  },
  {
   "cell_type": "code",
   "execution_count": 25,
   "metadata": {
    "collapsed": false
   },
   "outputs": [],
   "source": [
    "solr_url = 'http://holbox.lti.cs.cmu.edu:8983/solr/gettingstarted'\n",
    "solr_server = solr.SolrConnection(solr_url)"
   ]
  },
  {
   "cell_type": "markdown",
   "metadata": {},
   "source": [
    "Load the data from the json file and add it into the index"
   ]
  },
  {
   "cell_type": "code",
   "execution_count": 13,
   "metadata": {
    "collapsed": false
   },
   "outputs": [
    {
     "name": "stdout",
     "output_type": "stream",
     "text": [
      "46\n"
     ]
    }
   ],
   "source": [
    "vlog_entries_json_path = '/Users/zal/CMU/InMind/Devel/Multimodal/output/expertvagabond_proc_blog_posts.json'\n",
    "vlog_entries = json.load(open(vlog_entries_json_path))\n",
    "print len(vlog_entries)"
   ]
  },
  {
   "cell_type": "code",
   "execution_count": 14,
   "metadata": {
    "collapsed": false
   },
   "outputs": [
    {
     "name": "stdout",
     "output_type": "stream",
     "text": [
      "images, text, entry_url, video_url, title\n"
     ]
    }
   ],
   "source": [
    "print ', '.join([x for x in vlog_entries[0].keys()])\n",
    "    "
   ]
  },
  {
   "cell_type": "code",
   "execution_count": 32,
   "metadata": {
    "collapsed": false
   },
   "outputs": [],
   "source": [
    "for entry in vlog_entries:\n",
    "    entry_title = entry['title']\n",
    "    entry_url = entry['entry_url']\n",
    "    for entry_text in entry['text']:\n",
    "        article_title = entry_title.encode('ascii', 'ignore')\n",
    "        paragraph_title = entry_text['title'].encode('ascii', 'ignore')\n",
    "        paragraph_text = str(entry_text['paragraph'].encode('ascii', 'ignore'))\n",
    "        try:\n",
    "            solr_server.add(article_title=article_title, paragraph_title=paragraph_title)\n",
    "        except Exception, e:\n",
    "            print e\n"
   ]
  },
  {
   "cell_type": "code",
   "execution_count": 27,
   "metadata": {
    "collapsed": false
   },
   "outputs": [
    {
     "data": {
      "text/plain": [
       "'<?xml version=\"1.0\" encoding=\"UTF-8\"?>\\n<response>\\n<lst name=\"responseHeader\"><int name=\"status\">0</int><int name=\"QTime\">10</int></lst>\\n</response>\\n'"
      ]
     },
     "execution_count": 27,
     "metadata": {},
     "output_type": "execute_result"
    }
   ],
   "source": [
    "solr_server.commit()"
   ]
  },
  {
   "cell_type": "markdown",
   "metadata": {},
   "source": [
    "# Query the corpus with a query\n",
    "\n",
    "Let's see how this works: :P"
   ]
  },
  {
   "cell_type": "code",
   "execution_count": 71,
   "metadata": {
    "collapsed": false
   },
   "outputs": [
    {
     "name": "stdout",
     "output_type": "stream",
     "text": [
      "Tara,  Please make the following changes:  FT-West -change master user from Phillip Allen to Keith Holst  IM-West-Change master user from Bob Shiring to Phillip Allen  Mock both existing profiles.   Please make these changes on 1/17/00 at noon.  Thank you   Phillip\n",
      "8.484461 _____________________________________________________________\n",
      "Tara,  Please make the following changes:  FT-West -change master user from Phillip Allen to Keith Holst  IM-West-Change master user from Bob Shiring to Phillip Allen  Mock both existing profiles.   Please make these changes on 1/17/00 at noon.  Thank you   Phillip\n",
      "8.484461 _____________________________________________________________\n",
      "Tara,  Please make the following changes:  FT-West -change master user from Phillip Allen to Keith Holst  IM-West-Change master user from Bob Shiring to Phillip Allen  Mock both existing profiles.   Please make these changes on 1/17/00 at noon.  Thank you   Phillip\n",
      "8.484461 _____________________________________________________________\n",
      "Tara,  Please make the following changes:  FT-West -change master user from Phillip Allen to Keith Holst  IM-West-Change master user from Bob Shiring to Phillip Allen  Mock both existing profiles.   Please make these changes on 1/17/00 at noon.  Thank you   Phillip\n",
      "8.484461 _____________________________________________________________\n",
      "Mike,  Let me know when you are free, I would like to bring Phillip Love up to meet you.   KK\n",
      "8.205094 _____________________________________________________________\n",
      "Phillip, per our discussion see attached;    - Phillip Allen 1031 land tract letter.doc\n",
      "8.205094 _____________________________________________________________\n",
      "Jim, David and I wanted to let you know that Phillip has broken his arm over the weekend and he will be out of sports for a while.  He has an appt with an orthopedic surgeon on Friday and we should know more after that with regards  to exactly how long he has to be in a cast.  Needless to say, Phillip is very disappointed.  We will keep you posted.  Thanks, David and Carolyn Warnick\n",
      "7.686459 _____________________________________________________________\n",
      "Jim, David and I wanted to let you know that Phillip has broken his arm over the weekend and he will be out of sports for a while.  He has an appt with an orthopedic surgeon on Friday and we should know more after that with regards  to exactly how long he has to be in a cast.  Needless to say, Phillip is very disappointed.  We will keep you posted.  Thanks, David and Carolyn Warnick\n",
      "7.686459 _____________________________________________________________\n",
      "Jim, David and I wanted to let you know that Phillip has broken his arm over the weekend and he will be out of sports for a while.  He has an appt with an orthopedic surgeon on Friday and we should know more after that with regards  to exactly how long he has to be in a cast.  Needless to say, Phillip is very disappointed.  We will keep you posted.  Thanks, David and Carolyn Warnick\n",
      "7.686459 _____________________________________________________________\n",
      "I would like to get access to the new westpower website.  Phillip Allen asked  me to contact you for access.  I work with Phillip on the west gas desk.  I  can be reached at 713-853-7031.  Thank you.  Mike Grigsby\n",
      "7.6704144 _____________________________________________________________\n"
     ]
    }
   ],
   "source": [
    "query = 'What did I do in AFghanistan'\n",
    "response = solr_enron.query('paragraph_text:%s'%(query))\n",
    "for r in response:\n",
    "    print r['body'][0]\n",
    "    print r['score'],'_____________________________________________________________'"
   ]
  }
 ],
 "metadata": {
  "kernelspec": {
   "display_name": "Python 2",
   "language": "python",
   "name": "python2"
  },
  "language_info": {
   "codemirror_mode": {
    "name": "ipython",
    "version": 2
   },
   "file_extension": ".py",
   "mimetype": "text/x-python",
   "name": "python",
   "nbconvert_exporter": "python",
   "pygments_lexer": "ipython2",
   "version": "2.7.13"
  }
 },
 "nbformat": 4,
 "nbformat_minor": 1
}
