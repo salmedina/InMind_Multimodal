{
 "cells": [
  {
   "cell_type": "code",
   "execution_count": 54,
   "metadata": {
    "collapsed": true
   },
   "outputs": [],
   "source": [
    "import solr\n",
    "import urllib\n",
    "import json\n",
    "import spacy\n",
    "import numpy as np\n",
    "from unidecode import unidecode\n",
    "import matplotlib.pyplot as plt\n",
    "import seaborn as sns"
   ]
  },
  {
   "cell_type": "markdown",
   "metadata": {},
   "source": [
    "## Load the data"
   ]
  },
  {
   "cell_type": "code",
   "execution_count": 2,
   "metadata": {
    "collapsed": false
   },
   "outputs": [
    {
     "name": "stdout",
     "output_type": "stream",
     "text": [
      "Num Samples: 793436\n"
     ]
    }
   ],
   "source": [
    "data = open('yfcc100m_videos_metadata.csv').readlines()\n",
    "print 'Num Samples:', len(data)"
   ]
  },
  {
   "cell_type": "markdown",
   "metadata": {},
   "source": [
    "- 0: id\n",
    "- 2: userid\n",
    "- 3: DT\n",
    "- 6: title\n",
    "- 7: description\n",
    "- 8: tags\n",
    "- 14: url"
   ]
  },
  {
   "cell_type": "code",
   "execution_count": 3,
   "metadata": {
    "collapsed": true
   },
   "outputs": [],
   "source": [
    "def url_decode(in_str):\n",
    "    return urllib.unquote(in_str).decode('utf8').replace('+',' ')\n",
    "\n",
    "def filter_list(target, indices):\n",
    "    return [target[i] for i in indices]"
   ]
  },
  {
   "cell_type": "code",
   "execution_count": 4,
   "metadata": {
    "collapsed": false
   },
   "outputs": [],
   "source": [
    "ids, users, dts, titles, descs, tags, urls = [],[],[],[],[],[],[]\n",
    "for sample in data:\n",
    "    sample = sample.split('\\t')\n",
    "    ids.append(sample[0])\n",
    "    users.append(sample[2])\n",
    "    dts.append(sample[3])\n",
    "    titles.append(url_decode(sample[6]))\n",
    "    descs.append(url_decode(sample[7]))\n",
    "    tags.append(sample[8])\n",
    "    urls.append(sample[14])"
   ]
  },
  {
   "cell_type": "markdown",
   "metadata": {},
   "source": [
    "## Select the samples that have a description"
   ]
  },
  {
   "cell_type": "code",
   "execution_count": 5,
   "metadata": {
    "collapsed": false
   },
   "outputs": [
    {
     "name": "stdout",
     "output_type": "stream",
     "text": [
      "237853\n"
     ]
    }
   ],
   "source": [
    "non_empty_desc_idx = [i for i in range(len(data)) if len(descs[i])>0]\n",
    "print len(non_empty_desc_idx)"
   ]
  },
  {
   "cell_type": "code",
   "execution_count": 6,
   "metadata": {
    "collapsed": false
   },
   "outputs": [
    {
     "name": "stdout",
     "output_type": "stream",
     "text": [
      "237853 237853 237853 237853 237853 237853 237853\n"
     ]
    }
   ],
   "source": [
    "ids = filter_list(ids, non_empty_desc_idx)\n",
    "users = filter_list(users, non_empty_desc_idx)\n",
    "dts = filter_list(dts, non_empty_desc_idx)\n",
    "titles = filter_list(titles, non_empty_desc_idx)\n",
    "descs = filter_list(descs, non_empty_desc_idx)\n",
    "tags = filter_list(tags, non_empty_desc_idx)\n",
    "urls = filter_list(urls, non_empty_desc_idx)\n",
    "\n",
    "print len(ids), len(users), len(dts), len(titles), len(descs), len(tags), len(urls)"
   ]
  },
  {
   "cell_type": "code",
   "execution_count": 9,
   "metadata": {
    "collapsed": false
   },
   "outputs": [
    {
     "name": "stdout",
     "output_type": "stream",
     "text": [
      "36034\n"
     ]
    }
   ],
   "source": [
    "# list of user ids in corpus\n",
    "users_list = list(set(users))\n",
    "print 'There are',len(users_list),'total users in the corpus'\n",
    "\n",
    "users_idx = {}\n",
    "idx = 0\n",
    "for u in users:\n",
    "    if u not in users_idx:\n",
    "        users_idx[u]=idx\n",
    "        idx += 1\n",
    "\n",
    "userids = [users_idx[u] for u in users]"
   ]
  },
  {
   "cell_type": "code",
   "execution_count": 14,
   "metadata": {
    "collapsed": false
   },
   "outputs": [
    {
     "data": {
      "image/png": "[encoded data removed]",
      "text/plain": [
       "<matplotlib.figure.Figure at 0x11f74d2d0>"
      ]
     },
     "metadata": {},
     "output_type": "display_data"
    }
   ],
   "source": [
    "plt.hist(userids)\n",
    "plt.title(\"User's posts\")\n",
    "plt.xlabel('user id bins (2500)')\n",
    "plt.ylabel('num posts')\n",
    "plt.show()"
   ]
  },
  {
   "cell_type": "code",
   "execution_count": 33,
   "metadata": {
    "collapsed": false
   },
   "outputs": [
    {
     "data": {
      "image/png": "[encoded data removed]",
      "text/plain": [
       "<matplotlib.figure.Figure at 0x11f8d2d50>"
      ]
     },
     "metadata": {},
     "output_type": "display_data"
    }
   ],
   "source": [
    "user_post_count = {}\n",
    "for u in users:\n",
    "    if u not in user_post_count:\n",
    "        user_post_count[u] = 1\n",
    "    else:\n",
    "        user_post_count[u] += 1\n",
    "\n",
    "user_post_count = [(u,c) for u, c in user_post_count.iteritems()]\n",
    "sorted(user_post_count, key=lambda x:x[1], reverse=True)\n",
    "plt.bar(xrange(len(user_post_count)),zip(*user_post_count)[1])\n",
    "plt.show()"
   ]
  },
  {
   "cell_type": "markdown",
   "metadata": {},
   "source": [
    "## Select the users with more posts"
   ]
  },
  {
   "cell_type": "code",
   "execution_count": 39,
   "metadata": {
    "collapsed": false
   },
   "outputs": [
    {
     "name": "stdout",
     "output_type": "stream",
     "text": [
      "Baha%27i+Views+%2F+Flitzy+Phoebie                  5514\n",
      "Joe+Shlabotnik                                     1587\n",
      "Arthur+Chapman                                     1204\n",
      "labanex                                            1130\n",
      "Diamond+Geyser                                     901\n",
      "David+Gallagher                                    899\n",
      "BrentDPayne                                        744\n",
      "Tobyotter                                          690\n",
      "Manchester+Peregrines                              675\n",
      "Timo_Beil                                          595\n",
      "marymactavish                                      570\n",
      "Rev.+Xanatos+Satanicos+Bombasticos+%28ClintJCL%29  566\n",
      "Travis+S.                                          560\n",
      "Jo+%26+Joey                                        560\n",
      "jencu                                              528\n",
      "MiNe+%28sfmine79%29                                520\n",
      "waltarrrrr                                         506\n",
      "Andy+E.+Nystrom                                    504\n",
      "jasoneppink                                        433\n",
      "NASA+Goddard+Photo+and+Video                       427\n",
      "belTRON                                            413\n",
      "ell+brown                                          393\n",
      "osseous                                            368\n",
      "ianhun2009                                         363\n",
      "David+Domingo                                      363\n",
      "Dell%27s+Official+Flickr+Page                      357\n",
      "onefamousdog                                       327\n",
      "KimmerKC                                           325\n",
      "peterjr1961                                        321\n",
      "unnormalized                                       315\n",
      "Total Videos                                       22658\n"
     ]
    }
   ],
   "source": [
    "user_post_count = sorted(user_post_count, key=lambda x:x[1], reverse=True)\n",
    "print '\\n'.join(['{:<50} {}'.format(u,c) for u,c in user_post_count[:30]])\n",
    "print '{:<50} {}'.format('Total Videos', sum(zip(*user_post_count[:30])[1]))"
   ]
  },
  {
   "cell_type": "code",
   "execution_count": 38,
   "metadata": {
    "collapsed": false
   },
   "outputs": [],
   "source": [
    "top_users = zip(*user_post_count[:30])[0]"
   ]
  },
  {
   "cell_type": "code",
   "execution_count": 40,
   "metadata": {
    "collapsed": true
   },
   "outputs": [],
   "source": [
    "# this list has the index of target videos\n",
    "top_users_idx = [i for i in xrange(len(users)) if users[i] in top_users]"
   ]
  },
  {
   "cell_type": "code",
   "execution_count": 41,
   "metadata": {
    "collapsed": true
   },
   "outputs": [],
   "source": [
    "top_ids = filter_list(ids, top_users_idx)\n",
    "top_users = filter_list(users, top_users_idx)\n",
    "top_dts = filter_list(dts, top_users_idx)\n",
    "top_titles = filter_list(titles, top_users_idx)\n",
    "top_descs = filter_list(descs, top_users_idx)\n",
    "top_tags = filter_list(tags, top_users_idx)\n",
    "top_urls = filter_list(urls, top_users_idx)"
   ]
  },
  {
   "cell_type": "code",
   "execution_count": 48,
   "metadata": {
    "collapsed": false
   },
   "outputs": [
    {
     "name": "stdout",
     "output_type": "stream",
     "text": [
      "Descriptions lengths\n",
      "max: 7615\n",
      "min: 1\n",
      "mean: 167.324874217\n",
      "std: 340.920566703\n"
     ]
    }
   ],
   "source": [
    "top_descs_lens = [len(top_descs[i]) for i in xrange(len(top_descs))]\n",
    "print 'Descriptions lengths'\n",
    "print 'max:', max(top_descs_lens)\n",
    "print 'min:', min(top_descs_lens)\n",
    "print 'mean:', np.mean(top_descs_lens)\n",
    "print 'std:', np.std(top_descs_lens)"
   ]
  },
  {
   "cell_type": "markdown",
   "metadata": {},
   "source": [
    "## Import into solr"
   ]
  },
  {
   "cell_type": "code",
   "execution_count": 58,
   "metadata": {
    "collapsed": true
   },
   "outputs": [],
   "source": [
    "solr_flickr_url = 'http://holbox.lti.cs.cmu.edu:8983/solr/flickr'\n",
    "solr_flickr = solr.SolrConnection(solr_expertv_url)"
   ]
  },
  {
   "cell_type": "code",
   "execution_count": 59,
   "metadata": {
    "collapsed": false
   },
   "outputs": [],
   "source": [
    "# Load the spacy pipeline\n",
    "nlp = spacy.load('en')"
   ]
  },
  {
   "cell_type": "code",
   "execution_count": 60,
   "metadata": {
    "collapsed": false
   },
   "outputs": [
    {
     "data": {
      "text/plain": [
       "'<?xml version=\"1.0\" encoding=\"UTF-8\"?>\\n<response>\\n<lst name=\"responseHeader\"><int name=\"status\">0</int><int name=\"QTime\">960</int></lst>\\n</response>\\n'"
      ]
     },
     "execution_count": 60,
     "metadata": {},
     "output_type": "execute_result"
    }
   ],
   "source": [
    "for i in xrange(len(top_ids)):\n",
    "    solr_flickr.add(id=top_ids[i],\n",
    "                    user=top_users[i],\n",
    "                    datetime=top_dts[i],\n",
    "                    title=top_titles[i],\n",
    "                    desc=top_descs[i],\n",
    "                    tags=top_tags[i],\n",
    "                    ulr=top_urls[i])\n",
    "solr_flickr.commit()"
   ]
  },
  {
   "cell_type": "code",
   "execution_count": 72,
   "metadata": {
    "collapsed": false
   },
   "outputs": [
    {
     "name": "stdout",
     "output_type": "stream",
     "text": [
      "[]\n"
     ]
    }
   ],
   "source": [
    "query = 'youtube'\n",
    "\n",
    "response = solr_flickr.query('desc:\"%s\"~1'%(query))\n",
    "print list(response)\n",
    "for r in response:\n",
    "    print r['desc'][0]"
   ]
  }
 ],
 "metadata": {
  "kernelspec": {
   "display_name": "Python 2",
   "language": "python",
   "name": "python2"
  },
  "language_info": {
   "codemirror_mode": {
    "name": "ipython",
    "version": 2
   },
   "file_extension": ".py",
   "mimetype": "text/x-python",
   "name": "python",
   "nbconvert_exporter": "python",
   "pygments_lexer": "ipython2",
   "version": "2.7.13"
  }
 },
 "nbformat": 4,
 "nbformat_minor": 1
}
