{
 "cells": [
  {
   "cell_type": "code",
   "execution_count": 2,
   "metadata": {
    "collapsed": true
   },
   "outputs": [],
   "source": [
    "from __future__ import division\n",
    "import fasttext"
   ]
  },
  {
   "cell_type": "markdown",
   "metadata": {},
   "source": [
    "## FastText"
   ]
  },
  {
   "cell_type": "code",
   "execution_count": 7,
   "metadata": {
    "collapsed": false
   },
   "outputs": [],
   "source": [
    "data_samples = open('trec_5500_train.','r').readlines()"
   ]
  },
  {
   "cell_type": "code",
   "execution_count": 27,
   "metadata": {
    "collapsed": false
   },
   "outputs": [
    {
     "name": "stdout",
     "output_type": "stream",
     "text": [
      "There are 50 classes:\n",
      "ENTY:animal\n",
      "NUM:date\n",
      "ENTY:event\n",
      "ENTY:dismed\n",
      "ABBR:abb\n",
      "ENTY:product\n",
      "LOC:mount\n",
      "ENTY:body\n",
      "ENTY:techmeth\n",
      "ENTY:instru\n",
      "NUM:ord\n",
      "LOC:city\n",
      "ENTY:color\n",
      "ENTY:food\n",
      "NUM:weight\n",
      "LOC:other\n",
      "NUM:dist\n",
      "ENTY:plant\n",
      "ENTY:currency\n",
      "ENTY:termeq\n",
      "NUM:perc\n",
      "NUM:code\n",
      "LOC:state\n",
      "ABBR:exp\n",
      "HUM:gr\n",
      "ENTY:word\n",
      "DESC:reason\n",
      "ENTY:symbol\n",
      "HUM:desc\n",
      "ENTY:letter\n",
      "NUM:period\n",
      "NUM:other\n",
      "ENTY:other\n",
      "ENTY:cremat\n",
      "ENTY:veh\n",
      "NUM:count\n",
      "LOC:country\n",
      "ENTY:religion\n",
      "DESC:manner\n",
      "HUM:ind\n",
      "NUM:speed\n",
      "ENTY:sport\n",
      "ENTY:substance\n",
      "ENTY:lang\n",
      "NUM:temp\n",
      "DESC:desc\n",
      "DESC:def\n",
      "NUM:money\n",
      "NUM:volsize\n",
      "HUM:title\n"
     ]
    }
   ],
   "source": [
    "data_labels = [l.split(' ')[0] for l in data_samples]\n",
    "data_text = [l[len(label)+1:] for l,label in zip(data_samples, data_labels)]\n",
    "class_labels = list(set(data_labels))\n",
    "print 'There are', len(class_labels),'classes:'\n",
    "print '\\n'.join(class_labels)"
   ]
  },
  {
   "cell_type": "code",
   "execution_count": 9,
   "metadata": {
    "collapsed": true
   },
   "outputs": [],
   "source": [
    "ft_class_prefix = '__label__'\n",
    "ft_data_samples = ['%s%s'%(ft_class_prefix, s) for s in data_samples]"
   ]
  },
  {
   "cell_type": "code",
   "execution_count": 10,
   "metadata": {
    "collapsed": false
   },
   "outputs": [],
   "source": [
    "save_file = open('train_data.txt', 'w')\n",
    "save_file.write(''.join(ft_data_samples))\n",
    "save_file.close()"
   ]
  },
  {
   "cell_type": "code",
   "execution_count": 11,
   "metadata": {
    "collapsed": true
   },
   "outputs": [],
   "source": [
    "clf = fasttext.supervised('train_data.txt', 'question.clf', label_prefix=ft_class_prefix)"
   ]
  },
  {
   "cell_type": "code",
   "execution_count": 12,
   "metadata": {
    "collapsed": false
   },
   "outputs": [],
   "source": [
    "test_file = open('test_data.txt', 'w')\n",
    "test_file.write(''.join(data_text))\n",
    "test_file.close()"
   ]
  },
  {
   "cell_type": "code",
   "execution_count": 13,
   "metadata": {
    "collapsed": false
   },
   "outputs": [],
   "source": [
    "test_file = open('test_data.txt')\n",
    "test_samples = test_file.readlines()\n",
    "output = clf.predict(test_samples)\n",
    "pred_label = [x[0] for x in output]"
   ]
  },
  {
   "cell_type": "code",
   "execution_count": 14,
   "metadata": {
    "collapsed": false
   },
   "outputs": [
    {
     "name": "stdout",
     "output_type": "stream",
     "text": [
      "0.468268525312\n"
     ]
    }
   ],
   "source": [
    "match_count = [1 if x==y else 0 for x,y in zip(data_labels, pred_label)]\n",
    "precision = sum(match_count) / len(output)\n",
    "print precision"
   ]
  },
  {
   "cell_type": "markdown",
   "metadata": {},
   "source": [
    "## TREC Eval"
   ]
  },
  {
   "cell_type": "code",
   "execution_count": 257,
   "metadata": {
    "collapsed": true
   },
   "outputs": [],
   "source": [
    "def read_trec_data(data_path):\n",
    "    samples = open(data_path,'r').readlines()\n",
    "    Y = [l.split(' ')[0] for l in samples]\n",
    "    X = [l[len(y)+1:] for l,y in zip(samples, Y)]\n",
    "    return X,Y"
   ]
  },
  {
   "cell_type": "code",
   "execution_count": 252,
   "metadata": {
    "collapsed": true
   },
   "outputs": [],
   "source": [
    "def format_trec_to_ft(data_path, save_path):\n",
    "    samples = open(data_path,'r').readlines()\n",
    "    ft_class_prefix = '__label__'\n",
    "    ft_data_samples = ['%s%s'%(ft_class_prefix, s) for s in samples]\n",
    "    save_file = open(save_path, 'w')\n",
    "    save_file.write(''.join(ft_data_samples))\n",
    "    save_file.close()"
   ]
  },
  {
   "cell_type": "code",
   "execution_count": 290,
   "metadata": {
    "collapsed": true
   },
   "outputs": [],
   "source": [
    "def test_model(model, X, Y):\n",
    "    output = clf.predict(X)\n",
    "    pred_label = [x[0] for x in output]\n",
    "    match_count = [1 if y_hat==y else 0 for y_hat,y in zip(pred_label, Y)]\n",
    "    precision = sum(match_count) / len(output)\n",
    "    print precision\n",
    "    return precision"
   ]
  },
  {
   "cell_type": "code",
   "execution_count": 267,
   "metadata": {
    "collapsed": false
   },
   "outputs": [],
   "source": [
    "format_trec_to_ft('trec_5500_train.txt', 'train_data.txt')"
   ]
  },
  {
   "cell_type": "code",
   "execution_count": 268,
   "metadata": {
    "collapsed": true
   },
   "outputs": [],
   "source": [
    "clf = fasttext.supervised('train_data.txt', 'question.clf', label_prefix=ft_class_prefix)"
   ]
  },
  {
   "cell_type": "code",
   "execution_count": 291,
   "metadata": {
    "collapsed": false
   },
   "outputs": [
    {
     "name": "stdout",
     "output_type": "stream",
     "text": [
      "0.526\n"
     ]
    },
    {
     "data": {
      "text/plain": [
       "0.526"
      ]
     },
     "execution_count": 291,
     "metadata": {},
     "output_type": "execute_result"
    }
   ],
   "source": [
    "X,Y = read_trec_data('trec_5500_test.txt')\n",
    "test_model(clf, X, Y)"
   ]
  },
  {
   "cell_type": "markdown",
   "metadata": {},
   "source": [
    "### Testing 10-fold"
   ]
  },
  {
   "cell_type": "code",
   "execution_count": 292,
   "metadata": {
    "collapsed": false
   },
   "outputs": [
    {
     "name": "stdout",
     "output_type": "stream",
     "text": [
      "Fold 1 : 0.553113553114\n",
      "Fold 2 : 0.529304029304\n",
      "Fold 3 : 0.521100917431\n",
      "Fold 4 : 0.500917431193\n",
      "Fold 5 : 0.530275229358\n",
      "Fold 6 : 0.566972477064\n",
      "Fold 7 : 0.521100917431\n",
      "Fold 8 : 0.517431192661\n",
      "Fold 9 : 0.563302752294\n",
      "Fold 10 : 0.537614678899\n",
      "mAP:  0.534113317875\n"
     ]
    }
   ],
   "source": [
    "from sklearn.model_selection import KFold\n",
    "kf = KFold(n_splits=10)\n",
    "kf.get_n_splits(data_text)\n",
    "k = 0\n",
    "P = []\n",
    "for train_index, test_index in kf.split(data_text):\n",
    "    save_file = open('tmp.txt', 'w')\n",
    "    save_file.write(''.join([ft_data_samples[idx] for idx in train_index]))\n",
    "    save_file.close()\n",
    "    clf = fasttext.supervised('tmp.txt', 'tmp.clf', label_prefix=ft_class_prefix)\n",
    "    \n",
    "    output = clf.predict([data_text[idx] for idx in test_index])\n",
    "    pred_label = [x[0] for x in output]\n",
    "    match_count = [1 if x.split(':')[0]==y.split(':')[0] else 0 for x,y in zip([data_labels[idx] for idx in test_index], pred_label)]\n",
    "    precision = sum(match_count) / len(output)\n",
    "    k += 1\n",
    "    print 'Fold',k,':',precision\n",
    "    P.append(precision)\n",
    "\n",
    "print 'mAP: ', sum(P)/len(P)"
   ]
  },
  {
   "cell_type": "markdown",
   "metadata": {},
   "source": [
    "## External test"
   ]
  },
  {
   "cell_type": "code",
   "execution_count": 31,
   "metadata": {
    "collapsed": false
   },
   "outputs": [
    {
     "name": "stdout",
     "output_type": "stream",
     "text": [
      "[[(u'NUM:date', 0.152344)]]\n"
     ]
    }
   ],
   "source": [
    "q = 'show me pictures back when I was a quarterback'\n",
    "answer = clf.predict_proba([q])\n",
    "print answer"
   ]
  }
 ],
 "metadata": {
  "kernelspec": {
   "display_name": "Python 2",
   "language": "python",
   "name": "python2"
  },
  "language_info": {
   "codemirror_mode": {
    "name": "ipython",
    "version": 2
   },
   "file_extension": ".py",
   "mimetype": "text/x-python",
   "name": "python",
   "nbconvert_exporter": "python",
   "pygments_lexer": "ipython2",
   "version": "2.7.13"
  }
 },
 "nbformat": 4,
 "nbformat_minor": 1
}
